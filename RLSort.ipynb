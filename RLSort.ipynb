{
 "cells": [
  {
   "cell_type": "code",
   "execution_count": 0,
   "metadata": {},
   "outputs": [],
   "source": [
    "def rl_sort(l):\n",
    "    def _algorithm(l, l_len=len(l), i=1, j=0):\n",
    "        while True:\n",
    "            if i == len(l):  # TERMINATE\n",
    "                break\n",
    "            elif l[i] > l[j]:  # INCJ\n",
    "                j += 1\n",
    "            elif i > j:  # SWAP + INCJ\n",
    "                l[i], l[j] = l[j], l[i]\n",
    "                j += 1\n",
    "            else:  # RESETJ + INCI\n",
    "                j = 0\n",
    "                i += 1\n",
    "    return _algorithm(l)\n",
    "#    assert sorted(l) == l\n",
    "\n",
    "\n",
    "def bubble_sort(l):\n",
    "    for passnum in range(len(l)-1, 0, -1):\n",
    "        for i in range(passnum):\n",
    "            if l[i] > l[i+1]:\n",
    "                l[i], l[i+1] = l[i+1], l[i]\n",
    "#    assert sorted(l) == l"
   ]
  },
  {
   "cell_type": "code",
   "execution_count": 2,
   "metadata": {},
   "outputs": [
    {
     "name": "stdout",
     "output_type": "stream",
     "text": [
      "rl_sort      on       870 elements: 00.01s±0.00\n",
      "bubble_sort  on       870 elements: 00.00s±0.00\n",
      "-----------------------------------\n",
      "rl_sort      on     5,910 elements: 00.05s±0.00\n",
      "bubble_sort  on     5,910 elements: 00.04s±0.00\n",
      "-----------------------------------\n",
      "rl_sort      on    46,230 elements: 00.49s±0.01\n",
      "bubble_sort  on    46,230 elements: 00.40s±0.00\n",
      "-----------------------------------\n",
      "rl_sort      on   409,110 elements: 05.45s±0.08\n",
      "bubble_sort  on   409,110 elements: 04.36s±0.05\n",
      "-----------------------------------\n",
      "rl_sort      on 4,037,910 elements: 65.29s±0.64\n",
      "bubble_sort  on 4,037,910 elements: 51.41s±0.18\n",
      "-----------------------------------\n"
     ]
    }
   ],
   "source": [
    "from rlopt.env import RLSort as rl_env\n",
    "import time\n",
    "\n",
    "import numpy as np\n",
    "import matplotlib.pyplot as plt\n",
    "plt.rcParams['figure.facecolor'] = (1, 1, 1, 0)\n",
    "\n",
    "\n",
    "LEN = 11\n",
    "N_EXP = 5\n",
    "times = {'rl_sort': {}, 'bubble_sort': {}}\n",
    "\n",
    "for list_len in range(6, LEN):\n",
    "    permutations = rl_env(list_len)._perm.keys()\n",
    "    for sortMe in [rl_sort, bubble_sort]:\n",
    "        diff = []\n",
    "        for n in range(N_EXP):\n",
    "            start = time.time()\n",
    "            [sortMe(list(l)) for l in permutations]\n",
    "            finish = time.time()\n",
    "            diff.append(finish - start)\n",
    "        mean = np.mean(diff)\n",
    "        std = np.std(diff)\n",
    "        times[sortMe.__name__].update({len(permutations): [mean, std]})\n",
    "        print('{:12} on {:9,} elements: {:05.2f}s±{:.2f}'.format(\n",
    "            sortMe.__name__, len(permutations), mean, std))\n",
    "    print('-----------------------------------')"
   ]
  },
  {
   "cell_type": "code",
   "execution_count": 3,
   "metadata": {},
   "outputs": [
    {
     "data": {
      "image/png": "[encoded data removed]",
      "text/plain": [
       "<Figure size 576x396 with 1 Axes>"
      ]
     },
     "metadata": {
      "tags": []
     },
     "output_type": "display_data"
    }
   ],
   "source": [
    "for k, t in times.items():\n",
    "    means = np.array(list(t.values()))[:, 0]\n",
    "    stds = np.array(list(t.values()))[:, 1]\n",
    "    plt.plot(t.keys(), means, label=k)\n",
    "    plt.fill_between(t.keys(), means - stds, means + stds, alpha=0.4)\n",
    "# plt.yscale('log')\n",
    "plt.xscale('log')\n",
    "plt.xlabel('number of elements')\n",
    "plt.ylabel('duration [s]')\n",
    "plt.legend()\n",
    "plt.show()"
   ]
  }
 ],
 "metadata": {
  "kernelspec": {
   "display_name": "Python 3",
   "language": "python",
   "name": "python3"
  },
  "language_info": {
   "codemirror_mode": {
    "name": "ipython",
    "version": 3
   },
   "file_extension": ".py",
   "mimetype": "text/x-python",
   "name": "python",
   "nbconvert_exporter": "python",
   "pygments_lexer": "ipython3",
   "version": "3.7.2"
  },
  "toc": {
   "base_numbering": 1,
   "nav_menu": {},
   "number_sections": true,
   "sideBar": true,
   "skip_h1_title": false,
   "title_cell": "Table of Contents",
   "title_sidebar": "Contents",
   "toc_cell": false,
   "toc_position": {},
   "toc_section_display": true,
   "toc_window_display": false
  },
  "varInspector": {
   "cols": {
    "lenName": 16,
    "lenType": 16,
    "lenVar": 40
   },
   "kernels_config": {
    "python": {
     "delete_cmd_postfix": "",
     "delete_cmd_prefix": "del ",
     "library": "var_list.py",
     "varRefreshCmd": "print(var_dic_list())"
    },
    "r": {
     "delete_cmd_postfix": ") ",
     "delete_cmd_prefix": "rm(",
     "library": "var_list.r",
     "varRefreshCmd": "cat(var_dic_list()) "
    }
   },
   "types_to_exclude": [
    "module",
    "function",
    "builtin_function_or_method",
    "instance",
    "_Feature"
   ],
   "window_display": false
  }
 },
 "nbformat": 4,
 "nbformat_minor": 2
}
